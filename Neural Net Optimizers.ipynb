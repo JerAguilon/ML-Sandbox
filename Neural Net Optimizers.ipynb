{
 "cells": [
  {
   "cell_type": "code",
   "execution_count": 1,
   "metadata": {},
   "outputs": [],
   "source": [
    "# Classical\n",
    "import pandas as pd\n",
    "import numpy as np\n",
    "import matplotlib.pyplot as plt\n",
    "import matplotlib\n",
    "\n",
    "# PyTorch\n",
    "import torch\n",
    "from torch import nn\n",
    "import torch.nn.functional as F\n",
    "from torch.autograd import Variable\n",
    "from torch.utils.data import Dataset, DataLoader\n",
    "from torch import optim\n",
    "\n",
    "%matplotlib inline\n",
    "matplotlib.rcParams['figure.figsize'] = 15, 7"
   ]
  },
  {
   "cell_type": "code",
   "execution_count": 2,
   "metadata": {},
   "outputs": [],
   "source": [
    "data = pd.read_csv('./data/digit-recognizer/train.csv')\n",
    "data = np.array(data)"
   ]
  },
  {
   "cell_type": "code",
   "execution_count": 3,
   "metadata": {},
   "outputs": [],
   "source": [
    "class MNIST(Dataset):\n",
    "    def __init__(self, data):\n",
    "        self.data = data\n",
    "    \n",
    "    def __getitem__(self, index):\n",
    "        X = data[index][1:]\n",
    "        y = data[index][0]\n",
    "        return (torch.from_numpy(X).float()/256, \n",
    "                torch.LongTensor(np.array([y])))\n",
    "    \n",
    "    def __len__(self):\n",
    "        return len(self.data)"
   ]
  },
  {
   "cell_type": "code",
   "execution_count": 4,
   "metadata": {},
   "outputs": [],
   "source": [
    "class SimpleNeuralNet(nn.Module):\n",
    "    def __init__(self, layers):\n",
    "        super().__init__()\n",
    "        self.linears = nn.ModuleList([\n",
    "            nn.Linear(layers[i], layers[i+1]) for i in range(len(layers) - 1)\n",
    "        ])\n",
    "        \n",
    "    def forward(self, x):\n",
    "        for lin in self.linears:\n",
    "            lin_x = lin(x)\n",
    "            x = F.relu(lin_x)\n",
    "        return F.log_softmax(lin_x, dim=1)"
   ]
  },
  {
   "cell_type": "code",
   "execution_count": 5,
   "metadata": {},
   "outputs": [],
   "source": [
    "def init_net():\n",
    "    return SimpleNeuralNet([IMAGE_SIZE, 100, 100, 10])"
   ]
  },
  {
   "cell_type": "code",
   "execution_count": 6,
   "metadata": {},
   "outputs": [],
   "source": [
    "mnist = MNIST(data)\n",
    "data_dl = DataLoader(mnist, batch_size = 256, shuffle=True, num_workers=0)"
   ]
  },
  {
   "cell_type": "code",
   "execution_count": 7,
   "metadata": {},
   "outputs": [],
   "source": [
    "epochs = 3\n",
    "criterion = nn.NLLLoss()"
   ]
  },
  {
   "cell_type": "code",
   "execution_count": 8,
   "metadata": {},
   "outputs": [],
   "source": [
    "## Create architecture\n",
    "IMAGE_SIZE = 28 * 28\n",
    "net = init_net()\n",
    "\n",
    "# Weight/biases\n",
    "wbs = [(lin.weight, lin.bias) for lin in net.linears]\n",
    "losses = []\n",
    "lr = 1e-2"
   ]
  },
  {
   "cell_type": "code",
   "execution_count": 9,
   "metadata": {},
   "outputs": [
    {
     "name": "stdout",
     "output_type": "stream",
     "text": [
      "[Epoch, Loss]\n",
      "[0, 2.2686562538146973]\n",
      "[1, 2.145275831222534]\n",
      "[2, 1.9207435846328735]\n"
     ]
    }
   ],
   "source": [
    "print(\"[Epoch, Loss]\")\n",
    "for epoch in range(epochs):\n",
    "    for i, batch in enumerate(data_dl):\n",
    "        inputs, labels = Variable(batch[0]), Variable(batch[1])\n",
    "        outputs = net(inputs)\n",
    "        \n",
    "        loss = criterion(outputs, labels.squeeze(-1))\n",
    "        losses.append(loss)\n",
    "        loss.backward()\n",
    "        \n",
    "        for w, b in wbs:\n",
    "            w.data -= lr * w.grad.data\n",
    "            b.data -= lr * b.grad.data\n",
    "            w.grad.data.zero_()\n",
    "            b.grad.data.zero_()\n",
    "    print(\"[{}, {}]\".format(epoch, loss.data[0]))"
   ]
  },
  {
   "cell_type": "code",
   "execution_count": 10,
   "metadata": {},
   "outputs": [],
   "source": [
    "sgd_losses = [(l.data.numpy()[0]) for l in losses]\n",
    "sgd_log_losses_ = [np.log(l) for l in sgd_losses]"
   ]
  },
  {
   "cell_type": "code",
   "execution_count": 11,
   "metadata": {},
   "outputs": [
    {
     "data": {
      "text/plain": [
       "Text(0.5,1,'Vanilla SGD')"
      ]
     },
     "execution_count": 11,
     "metadata": {},
     "output_type": "execute_result"
    },
    {
     "data": {
      "image/png": "[encoded data removed]",
      "text/plain": [
       "<Figure size 432x288 with 1 Axes>"
      ]
     },
     "metadata": {},
     "output_type": "display_data"
    }
   ],
   "source": [
    "plt.plot(sgd_log_losses_)\n",
    "plt.title(\"Vanilla SGD\")"
   ]
  },
  {
   "cell_type": "markdown",
   "metadata": {},
   "source": [
    "## Adding momentum\n",
    "\n",
    "We can greatly improve neural net performance by reducing variance in the gradient.\n",
    "We do so through a linear interpolocation between past gradients and the current one.\n",
    "\n",
    "Implementation is inspired by PyTorch's `optim.SGD` docstring:\n",
    "```\n",
    "        .. math::\n",
    "                  v = \\rho * v + g \\\\\n",
    "                  p = p - lr * v\n",
    "\n",
    "        where p, g, v and :math:`\\rho` denote the parameters, gradient,\n",
    "        velocity, and momentum respectively.\n",
    "```"
   ]
  },
  {
   "cell_type": "code",
   "execution_count": 18,
   "metadata": {},
   "outputs": [],
   "source": [
    "net = init_net()\n",
    "wbs = [(lin.weight, lin.bias) for lin in net.linears]\n",
    "losses = []\n",
    "\n",
    "# parameters\n",
    "lr = 1e-3\n",
    "rho = .9\n",
    "epochs = 3\n",
    "\n",
    "# momentum trackers\n",
    "weight_v_prev = [0 for i in range(len(wbs))]\n",
    "bias_v_prev = [0 for i in range(len(wbs))]"
   ]
  },
  {
   "cell_type": "code",
   "execution_count": 15,
   "metadata": {},
   "outputs": [
    {
     "name": "stdout",
     "output_type": "stream",
     "text": [
      "epoch 0\n",
      "epoch 1\n",
      "epoch 2\n"
     ]
    }
   ],
   "source": [
    "### Training \n",
    "for epoch in range(epochs):\n",
    "    print(f'epoch {epoch}')\n",
    "    for i, batch in enumerate(data_dl):\n",
    "        inputs, labels = batch\n",
    "        inputs, labels = Variable(inputs), Variable(labels)\n",
    "        outputs = net(inputs)\n",
    "        \n",
    "        # compute loss and gradients\n",
    "        loss = criterion(outputs, labels.squeeze(-1))\n",
    "        losses.append(loss)\n",
    "        loss.backward()\n",
    "        \n",
    "        # update weights \n",
    "        for i, wb in enumerate(wbs):\n",
    "            w = wb[0]\n",
    "            b = wb[1]\n",
    "            weight_v_new = rho*weight_v_prev[i] + lr*w.grad.data\n",
    "            bias_v_new = rho*bias_v_prev[i] + lr*b.grad.data\n",
    "            \n",
    "            weight_v_prev[i] = weight_v_new\n",
    "            bias_v_prev[i] = bias_v_new\n",
    "            \n",
    "            w.data -= weight_v_new\n",
    "            b.data -= bias_v_new\n",
    "            \n",
    "            # zero the gradients\n",
    "            w.grad.data.zero_()\n",
    "            b.grad.data.zero_()"
   ]
  },
  {
   "cell_type": "code",
   "execution_count": null,
   "metadata": {},
   "outputs": [
    {
     "name": "stdout",
     "output_type": "stream",
     "text": [
      "[Epoch, Loss]\n"
     ]
    }
   ],
   "source": [
    "print(\"[Epoch, Loss]\")\n",
    "for epoch in range(epochs):\n",
    "    for i, batch in enumerate(data_dl):\n",
    "        inputs, labels = Variable(batch[0]), Variable(batch[1])\n",
    "        outputs = net(inputs)\n",
    "        \n",
    "        loss = criterion(outputs, labels.squeeze(-1))\n",
    "        losses.append(loss)\n",
    "        loss.backward()\n",
    "        \n",
    "        for i, wb in enumerate(wbs):\n",
    "            w = wb[0]\n",
    "            b = wb[1]\n",
    "            weight_v_curr = rho * weight_v_prev[i] + lr * w.grad.data\n",
    "            bias_v_curr = rho * bias_v_prev[i] + lr * b.grad.data\n",
    "            \n",
    "            weight_v_prev[i] = weight_v_curr\n",
    "            bias_v_prev[i] = bias_v_curr\n",
    "            w.data -= weight_v_curr\n",
    "            b.data -= bias_v_curr\n",
    "            \n",
    "            w.grad.data.zero_()\n",
    "            b.grad.data.zero_()\n",
    "    print(\"[{}, {}]\".format(epoch, loss.data[0]))"
   ]
  },
  {
   "cell_type": "code",
   "execution_count": 16,
   "metadata": {},
   "outputs": [
    {
     "data": {
      "text/plain": [
       "<matplotlib.legend.Legend at 0x7f7bbce75b70>"
      ]
     },
     "execution_count": 16,
     "metadata": {},
     "output_type": "execute_result"
    },
    {
     "data": {
      "image/png": "[encoded data removed]",
      "text/plain": [
       "<Figure size 432x288 with 1 Axes>"
      ]
     },
     "metadata": {},
     "output_type": "display_data"
    }
   ],
   "source": [
    "sgdmom_losses_ = [(l.data.numpy()[0]) for l in losses]\n",
    "sgdmom_log_losses_ = [np.log(l) for l in sgdmom_losses_]\n",
    "\n",
    "plt.plot(sgd_log_losses_)\n",
    "plt.plot(sgdmom_log_losses_)\n",
    "title = plt.title(\"Evolution of Optimizers\")\n",
    "plt.legend(('SGD', 'SGD Momentum'))   "
   ]
  },
  {
   "cell_type": "code",
   "execution_count": null,
   "metadata": {},
   "outputs": [],
   "source": []
  }
 ],
 "metadata": {
  "kernelspec": {
   "display_name": "Python 3",
   "language": "python",
   "name": "python3"
  },
  "language_info": {
   "codemirror_mode": {
    "name": "ipython",
    "version": 3
   },
   "file_extension": ".py",
   "mimetype": "text/x-python",
   "name": "python",
   "nbconvert_exporter": "python",
   "pygments_lexer": "ipython3",
   "version": "3.6.5"
  }
 },
 "nbformat": 4,
 "nbformat_minor": 2
}
