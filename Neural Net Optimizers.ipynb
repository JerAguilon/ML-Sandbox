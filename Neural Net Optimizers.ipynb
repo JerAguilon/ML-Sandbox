{
 "cells": [
  {
   "cell_type": "code",
   "execution_count": 1,
   "metadata": {},
   "outputs": [],
   "source": [
    "# Classical\n",
    "import pandas as pd\n",
    "import numpy as np\n",
    "import matplotlib.pyplot as plt\n",
    "import matplotlib\n",
    "\n",
    "# PyTorch\n",
    "import torch\n",
    "from torch import nn\n",
    "import torch.nn.functional as F\n",
    "from torch.autograd import Variable\n",
    "from torch.utils.data import Dataset, DataLoader\n",
    "from torch import optim\n",
    "\n",
    "%matplotlib inline\n",
    "matplotlib.rcParams['figure.figsize'] = 15, 7"
   ]
  },
  {
   "cell_type": "code",
   "execution_count": 2,
   "metadata": {},
   "outputs": [],
   "source": [
    "data = pd.read_csv('./data/digit-recognizer/train.csv')\n",
    "data = np.array(data)"
   ]
  },
  {
   "cell_type": "code",
   "execution_count": 3,
   "metadata": {},
   "outputs": [],
   "source": [
    "class MNIST(Dataset):\n",
    "    def __init__(self, data):\n",
    "        self.data = data\n",
    "    \n",
    "    def __getitem__(self, index):\n",
    "        X = data[index][1:]\n",
    "        y = data[index][0]\n",
    "        return (torch.from_numpy(X).float()/256, \n",
    "                torch.LongTensor(np.array([y])))\n",
    "    \n",
    "    def __len__(self):\n",
    "        return len(self.data)"
   ]
  },
  {
   "cell_type": "code",
   "execution_count": 4,
   "metadata": {},
   "outputs": [],
   "source": [
    "class SimpleNeuralNet(nn.Module):\n",
    "    def __init__(self, layers):\n",
    "        super().__init__()\n",
    "        self.linears = nn.ModuleList([\n",
    "            nn.Linear(layers[i], layers[i+1]) for i in range(len(layers) - 1)\n",
    "        ])\n",
    "        \n",
    "    def forward(self, x):\n",
    "        for lin in self.linears:\n",
    "            lin_x = lin(x)\n",
    "            x = F.relu(lin_x)\n",
    "        return F.log_softmax(lin_x, dim=1)"
   ]
  },
  {
   "cell_type": "code",
   "execution_count": null,
   "metadata": {},
   "outputs": [],
   "source": [
    "def init_net():\n",
    "    return SimpleNeuralNet([IMAGE_SIZE, 100, 100, 10])"
   ]
  },
  {
   "cell_type": "code",
   "execution_count": 5,
   "metadata": {},
   "outputs": [],
   "source": [
    "mnist = MNIST(data)\n",
    "data_dl = DataLoader(mnist, batch_size = 256, shuffle=True, num_workers=0)"
   ]
  },
  {
   "cell_type": "code",
   "execution_count": 6,
   "metadata": {},
   "outputs": [],
   "source": [
    "epochs = 3\n",
    "criterion = nn.NLLLoss()"
   ]
  },
  {
   "cell_type": "code",
   "execution_count": 7,
   "metadata": {},
   "outputs": [],
   "source": [
    "## Create architecture\n",
    "IMAGE_SIZE = 28 * 28\n",
    "net = init_net()\n",
    "\n",
    "# Weight/biases\n",
    "wbs = [(lin.weight, lin.bias) for lin in net.linears]\n",
    "losses = []\n",
    "lr = 1e-2"
   ]
  },
  {
   "cell_type": "code",
   "execution_count": 8,
   "metadata": {},
   "outputs": [
    {
     "name": "stdout",
     "output_type": "stream",
     "text": [
      "[Epoch, Loss]\n",
      "[0, \n",
      " 2.2566\n",
      "[torch.FloatTensor of size 1]\n",
      "]\n",
      "[1, \n",
      " 2.1049\n",
      "[torch.FloatTensor of size 1]\n",
      "]\n",
      "[2, \n",
      " 1.6072\n",
      "[torch.FloatTensor of size 1]\n",
      "]\n"
     ]
    }
   ],
   "source": [
    "print(\"[Epoch, Loss]\")\n",
    "for epoch in range(epochs):\n",
    "    for i, batch in enumerate(data_dl):\n",
    "        inputs, labels = Variable(batch[0]), Variable(batch[1])\n",
    "        outputs = net(inputs)\n",
    "        \n",
    "        loss = criterion(outputs, labels.squeeze(-1))\n",
    "        losses.append(loss)\n",
    "        loss.backward()\n",
    "        \n",
    "        for w, b in wbs:\n",
    "            w.data -= lr * w.grad.data\n",
    "            b.data -= lr * b.grad.data\n",
    "            w.grad.data.zero_()\n",
    "            b.grad.data.zero_()\n",
    "    print(\"[{}, {}]\".format(epoch, loss.data))"
   ]
  },
  {
   "cell_type": "code",
   "execution_count": 9,
   "metadata": {},
   "outputs": [],
   "source": [
    "sgd_losses = [(l.data.numpy()[0]) for l in losses]\n",
    "sgd_log_losses_ = [np.log(l) for l in sgd_losses]"
   ]
  },
  {
   "cell_type": "code",
   "execution_count": 10,
   "metadata": {},
   "outputs": [
    {
     "data": {
      "text/plain": [
       "Text(0.5,1,'Vanilla SGD')"
      ]
     },
     "execution_count": 10,
     "metadata": {},
     "output_type": "execute_result"
    },
    {
     "data": {
      "image/png": "[encoded data removed]",
      "text/plain": [
       "<Figure size 432x288 with 1 Axes>"
      ]
     },
     "metadata": {},
     "output_type": "display_data"
    }
   ],
   "source": [
    "plt.plot(sgd_log_losses_)\n",
    "plt.title(\"Vanilla SGD\")"
   ]
  },
  {
   "cell_type": "markdown",
   "metadata": {},
   "source": [
    "## Adding momentum"
   ]
  },
  {
   "cell_type": "code",
   "execution_count": null,
   "metadata": {},
   "outputs": [],
   "source": []
  }
 ],
 "metadata": {
  "kernelspec": {
   "display_name": "Python 3",
   "language": "python",
   "name": "python3"
  },
  "language_info": {
   "codemirror_mode": {
    "name": "ipython",
    "version": 3
   },
   "file_extension": ".py",
   "mimetype": "text/x-python",
   "name": "python",
   "nbconvert_exporter": "python",
   "pygments_lexer": "ipython3",
   "version": "3.6.5"
  }
 },
 "nbformat": 4,
 "nbformat_minor": 2
}
